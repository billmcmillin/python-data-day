{
 "cells": [
  {
   "cell_type": "markdown",
   "metadata": {},
   "source": [
    "# Session 1 - Data Analysis with Python\n",
    "\n",
    "## Exploratory Data Analysis\n",
    "### Business/Domain Understanding\n",
    "* Emergency Responder calls from https://data.cincinnati-oh.gov/\n",
    "\n",
    "#### Start with why\n",
    "* We're looking at response times in different areas to determine which factors might impact response time. We don't have a hypothesis yet. That's to be developed during this EDA process.\n",
    "\n",
    "#### Then what\n",
    "* Patterns may indicate time periods or areas where additional EMTs are needed.\n",
    "* We'll explore the data with basics statistical and visualization methods to determine if any patterns exist."
   ]
  },
  {
   "cell_type": "code",
   "execution_count": 5,
   "metadata": {
    "collapsed": true
   },
   "outputs": [],
   "source": [
    "#import libraries\n",
    "import pandas as pd\n",
    "import numpy as np\n",
    "import scipy.stats as stats"
   ]
  },
  {
   "cell_type": "code",
   "execution_count": 4,
   "metadata": {},
   "outputs": [],
   "source": [
    "#import the csv into a new pandas dataframe object"
   ]
  },
  {
   "cell_type": "markdown",
   "metadata": {},
   "source": [
    "### Data Understanding\n",
    "#### What data do we have? What type? How complete/clean is it?"
   ]
  },
  {
   "cell_type": "code",
   "execution_count": 6,
   "metadata": {
    "collapsed": true
   },
   "outputs": [],
   "source": [
    "#look at a sample of the dataframe"
   ]
  },
  {
   "cell_type": "code",
   "execution_count": 7,
   "metadata": {
    "collapsed": true
   },
   "outputs": [],
   "source": [
    "#examine the datatypes of the dataframe"
   ]
  },
  {
   "cell_type": "markdown",
   "metadata": {},
   "source": [
    "## Data Types\n",
    "\n",
    "### Series\n",
    "* A series is a one-dimensional structure like an associative array. E.g.\n",
    "\n",
    "Series\n",
    "---------------\n",
    "index | value \n",
    "---------------\n",
    "0     |  -84.5099\n",
    "\n",
    "1     |  -84.48937\n",
    "\n",
    "2     |  -84.4432\n",
    "\n",
    "* You can assign an index to a series. Pandas uses sequential indexes by default\n",
    "* Operations on numpy arrays also work on Pandas Series\n",
    "\n",
    "### DataFrame\n",
    "* Extends a one-dimensional series to multiple dimensions. E.g.\n",
    "\n",
    "--------------------------------------------\n",
    "index |   longitude   |  latitude  | agency\n",
    "--------------------------------------------------\n",
    "0     |  -84.5099     |   39.1060  |  CF\n",
    "\n",
    "1     |  -84.48937    |   39.32011 |  CFD\n",
    "\n",
    "2     |  -84.4432     |   39.2993  |  CF\n",
    "\n",
    "#### DataFrame indexes\n",
    "* we have the row index, a sequential integer by default. There is also a column index. "
   ]
  },
  {
   "cell_type": "code",
   "execution_count": 8,
   "metadata": {
    "collapsed": true
   },
   "outputs": [],
   "source": [
    "#Selecting elements\n",
    "#dataframe_name['column_name'][row_index]\n",
    "#use df_name.loc[row_num] to select all values of an observation"
   ]
  },
  {
   "cell_type": "code",
   "execution_count": null,
   "metadata": {
    "collapsed": true
   },
   "outputs": [],
   "source": [
    "#What are the unique values in INCIDENT_TYPE_DESC?"
   ]
  },
  {
   "cell_type": "code",
   "execution_count": 9,
   "metadata": {
    "collapsed": true
   },
   "outputs": [],
   "source": [
    "#Check for completeness\n",
    "#Consider which values are missing and how those will impact the analysis"
   ]
  },
  {
   "cell_type": "code",
   "execution_count": 10,
   "metadata": {
    "collapsed": true
   },
   "outputs": [],
   "source": [
    "#check for duplicate entries"
   ]
  },
  {
   "cell_type": "code",
   "execution_count": 11,
   "metadata": {
    "collapsed": true
   },
   "outputs": [],
   "source": [
    "# Filter out only those observations that contain crucial missing values"
   ]
  },
  {
   "cell_type": "code",
   "execution_count": 12,
   "metadata": {
    "collapsed": true
   },
   "outputs": [],
   "source": [
    "#What if we want to convert the data type? \n",
    "#The date is in format %m/%d/%Y %H:%M:%S %p\n",
    "#We want it in 24 hour ISO format: %Y-%m-%d %H:%M:%S"
   ]
  },
  {
   "cell_type": "code",
   "execution_count": 13,
   "metadata": {
    "collapsed": true
   },
   "outputs": [],
   "source": [
    "#Derived variables\n",
    "#We have dispatch and arrival times, but what if we want the time to arrival?"
   ]
  },
  {
   "cell_type": "code",
   "execution_count": 14,
   "metadata": {
    "collapsed": true
   },
   "outputs": [],
   "source": [
    "#We can calculate the arrival time as a DateTime object, but for statistical analysis, an integer will be better\n",
    "## What if we want the average response time, or the distribution of response time? \n",
    "## We'll want a consistent unit of measurement.\n",
    "## Try converting it to minutes:"
   ]
  },
  {
   "cell_type": "markdown",
   "metadata": {},
   "source": [
    "### Selecting rows with booleans\n",
    "What if we only want a subset of the data? We can use booleans to select only matching values and put them into a new dataframe."
   ]
  },
  {
   "cell_type": "code",
   "execution_count": 17,
   "metadata": {},
   "outputs": [],
   "source": [
    "#select only neighborhoods where the neighborhood is cuf"
   ]
  },
  {
   "cell_type": "code",
   "execution_count": 18,
   "metadata": {
    "collapsed": true
   },
   "outputs": [],
   "source": [
    "#use multiple values as boolean filters"
   ]
  },
  {
   "cell_type": "markdown",
   "metadata": {},
   "source": [
    "## Data Preparation\n",
    "* Build the dataset(s) that will be used in our analysis"
   ]
  },
  {
   "cell_type": "code",
   "execution_count": 19,
   "metadata": {
    "collapsed": true
   },
   "outputs": [],
   "source": [
    "## add the derived variables to the main dataframe"
   ]
  },
  {
   "cell_type": "code",
   "execution_count": 20,
   "metadata": {
    "collapsed": true
   },
   "outputs": [],
   "source": [
    "#check on the datatypes of our dataframe"
   ]
  },
  {
   "cell_type": "code",
   "execution_count": 21,
   "metadata": {
    "collapsed": true
   },
   "outputs": [],
   "source": [
    "# use the describe() method to get a quick overview of the data"
   ]
  },
  {
   "cell_type": "code",
   "execution_count": 22,
   "metadata": {
    "collapsed": true
   },
   "outputs": [],
   "source": [
    "#what's the average time to arrival?"
   ]
  },
  {
   "cell_type": "code",
   "execution_count": 23,
   "metadata": {
    "collapsed": true
   },
   "outputs": [],
   "source": [
    "#if anything is off, use a boolean filter to see only the values that might be causing it"
   ]
  },
  {
   "cell_type": "code",
   "execution_count": 24,
   "metadata": {
    "collapsed": true
   },
   "outputs": [],
   "source": [
    "# There is often incorrect data that will skew the averages and other stats. They're obviously errors. Let's drop those.\n",
    "# We also have many cases of NaN, so we'll remove those as well"
   ]
  },
  {
   "cell_type": "code",
   "execution_count": 25,
   "metadata": {
    "collapsed": true
   },
   "outputs": [],
   "source": [
    "#take a look at the cleaned dataset"
   ]
  },
  {
   "cell_type": "code",
   "execution_count": 26,
   "metadata": {
    "collapsed": true
   },
   "outputs": [],
   "source": [
    "# are there other illogical (or even impossible) observations? "
   ]
  },
  {
   "cell_type": "code",
   "execution_count": 27,
   "metadata": {
    "collapsed": true
   },
   "outputs": [],
   "source": [
    "# remove any likely errors, review the number of observations removed, and look at the measures of center again"
   ]
  },
  {
   "cell_type": "markdown",
   "metadata": {},
   "source": [
    "## Exploratory Visualization\n",
    "\n",
    "### Looking for patterns and outliers|\n",
    "* Matplotlib is simple and easy to get started with\n",
    "* Not as adept at presentation and storytelling as Tableau\n",
    "* Designed to offer a similar experience to MatLab\n",
    "* Pyplot is part of matplotlib and we'll be using it to create basic graphics"
   ]
  },
  {
   "cell_type": "code",
   "execution_count": 28,
   "metadata": {
    "collapsed": true
   },
   "outputs": [],
   "source": [
    "import matplotlib.pyplot as plt\n",
    "%matplotlib inline\n",
    "#matplotlib assumes these are the y values and the corresponding x values are 0,1,2,3\n",
    "#create a basic plot"
   ]
  },
  {
   "cell_type": "code",
   "execution_count": 29,
   "metadata": {
    "collapsed": true
   },
   "outputs": [],
   "source": [
    "#enter x data, y data, then options. One option for a scatter plot is \"o\""
   ]
  },
  {
   "cell_type": "code",
   "execution_count": 30,
   "metadata": {
    "collapsed": true
   },
   "outputs": [],
   "source": [
    "#plot time to arrival (TTA) as points"
   ]
  },
  {
   "cell_type": "code",
   "execution_count": 31,
   "metadata": {
    "collapsed": true
   },
   "outputs": [],
   "source": [
    "#plot time to close (TTC) as points"
   ]
  },
  {
   "cell_type": "markdown",
   "metadata": {},
   "source": [
    "## Observations & Questions\n",
    "* If there is an obvious pattern around a specific time, is it a natural occurrence or system-generated?\n",
    "* Are there any obvious outliers that skew our means?\n",
    "* Is there a threshold above which we can declare an item an outlier? "
   ]
  },
  {
   "cell_type": "code",
   "execution_count": 32,
   "metadata": {
    "collapsed": true
   },
   "outputs": [],
   "source": [
    "#plot TTA as a histogram"
   ]
  },
  {
   "cell_type": "code",
   "execution_count": 33,
   "metadata": {
    "collapsed": true
   },
   "outputs": [],
   "source": [
    "#remove outliers"
   ]
  },
  {
   "cell_type": "code",
   "execution_count": 34,
   "metadata": {
    "collapsed": true
   },
   "outputs": [],
   "source": [
    "#plot cleaned TTA values as points"
   ]
  },
  {
   "cell_type": "code",
   "execution_count": 35,
   "metadata": {
    "collapsed": true
   },
   "outputs": [],
   "source": [
    "# what about outliers with unrealistically low values?"
   ]
  },
  {
   "cell_type": "markdown",
   "metadata": {},
   "source": [
    "## Examining Outliers\n",
    "* These are mostly classified as specific incident types with many firestation walkins and detail/special assignments. \n",
    "* We'd likely need a subject matter expert to help determine which of these contain errors"
   ]
  },
  {
   "cell_type": "markdown",
   "metadata": {},
   "source": [
    "## Finding Relationships\n",
    "\n",
    "* We've seen some patterns, but which variables, if any, are related?\n",
    "* Correlation and covariance are a way to find relationships between ratio and interval variables\n",
    "* Next we'll look at how visualizations can help us spot patterns and relationships in categorical variables"
   ]
  },
  {
   "cell_type": "markdown",
   "metadata": {},
   "source": [
    "## Summing Up\n",
    "* Data has been imported, transformed, and cleaned enough to begin a deeper exploration.\n",
    "* Basic plots show major patterns and outliers, often indicating where cleaning efforts should be focused\n",
    "* Further exploration will be needed to find actionable information"
   ]
  },
  {
   "cell_type": "code",
   "execution_count": null,
   "metadata": {
    "collapsed": true
   },
   "outputs": [],
   "source": []
  }
 ],
 "metadata": {
  "kernelspec": {
   "display_name": "Python 3",
   "language": "python",
   "name": "python3"
  },
  "language_info": {
   "codemirror_mode": {
    "name": "ipython",
    "version": 3
   },
   "file_extension": ".py",
   "mimetype": "text/x-python",
   "name": "python",
   "nbconvert_exporter": "python",
   "pygments_lexer": "ipython3",
   "version": "3.6.1"
  }
 },
 "nbformat": 4,
 "nbformat_minor": 2
}
