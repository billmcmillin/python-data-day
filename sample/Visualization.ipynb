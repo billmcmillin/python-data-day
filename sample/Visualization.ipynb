{
 "cells": [
  {
   "cell_type": "markdown",
   "metadata": {},
   "source": [
    "## Exploratory Data Analysis - Pt 2\n",
    "### Data Visualization "
   ]
  },
  {
   "cell_type": "code",
   "execution_count": 2,
   "metadata": {
    "collapsed": true
   },
   "outputs": [],
   "source": [
    "#import libraries and read the csv file\n",
    "import pandas as pd\n",
    "import numpy as np\n",
    "fire_df = pd.read_csv(\"data/fire.csv\")"
   ]
  },
  {
   "cell_type": "code",
   "execution_count": 6,
   "metadata": {
    "scrolled": true
   },
   "outputs": [
    {
     "data": {
      "text/plain": [
       "ADDRESS_X                             object\n",
       "LATITUDE_X                           float64\n",
       "LONGITUDE_X                          float64\n",
       "AGENCY                                object\n",
       "CREATE_TIME_INCIDENT          datetime64[ns]\n",
       "DISPOSITION_TEXT                      object\n",
       "EVENT_NUMBER                          object\n",
       "INCIDENT_TYPE_ID                      object\n",
       "INCIDENT_TYPE_DESC                    object\n",
       "NEIGHBORHOOD                          object\n",
       "ARRIVAL_TIME_PRIMARY_UNIT     datetime64[ns]\n",
       "BEAT                                  object\n",
       "CLOSED_TIME_INCIDENT          datetime64[ns]\n",
       "DISPATCH_TIME_PRIMARY_UNIT    datetime64[ns]\n",
       "CFD_INCIDENT_TYPE                     object\n",
       "CFD_INCIDENT_TYPE_GROUP               object\n",
       "dtype: object"
      ]
     },
     "execution_count": 6,
     "metadata": {},
     "output_type": "execute_result"
    }
   ],
   "source": [
    "#repeat cleaning steps from part 1\n",
    "fire_df['CREATE_TIME_INCIDENT'] = pd.to_datetime(fire_df['CREATE_TIME_INCIDENT'], format='%m/%d/%Y %I:%M:%S %p')\n",
    "fire_df['ARRIVAL_TIME_PRIMARY_UNIT'] = pd.to_datetime(fire_df['ARRIVAL_TIME_PRIMARY_UNIT'], format='%m/%d/%Y %I:%M:%S %p')\n",
    "fire_df['CLOSED_TIME_INCIDENT'] = pd.to_datetime(fire_df['CLOSED_TIME_INCIDENT'], format='%m/%d/%Y %I:%M:%S %p')\n",
    "fire_df['DISPATCH_TIME_PRIMARY_UNIT'] = pd.to_datetime(fire_df['DISPATCH_TIME_PRIMARY_UNIT'], format='%m/%d/%Y %I:%M:%S %p')\n",
    "fire_df.dtypes"
   ]
  },
  {
   "cell_type": "code",
   "execution_count": 7,
   "metadata": {},
   "outputs": [],
   "source": [
    "#derive variables\n",
    "import datetime\n",
    "\n",
    "TTA = pd.to_timedelta(fire_df['ARRIVAL_TIME_PRIMARY_UNIT'] - fire_df['DISPATCH_TIME_PRIMARY_UNIT'])\n",
    "TTC = pd.to_timedelta(fire_df['CLOSED_TIME_INCIDENT'] - fire_df['CREATE_TIME_INCIDENT'])"
   ]
  },
  {
   "cell_type": "code",
   "execution_count": 8,
   "metadata": {
    "collapsed": true
   },
   "outputs": [],
   "source": [
    "## add the derived variables to the main dataframe\n",
    "TTA_int = TTA / np.timedelta64(1, 'm')\n",
    "TTA_int\n",
    "fire_df['TTA'] = TTA_int\n",
    "\n",
    "TTC_int = TTC / np.timedelta64(1, 'm')\n",
    "TTC_int\n",
    "fire_df['TTC'] = TTC_int"
   ]
  },
  {
   "cell_type": "code",
   "execution_count": 9,
   "metadata": {},
   "outputs": [
    {
     "name": "stdout",
     "output_type": "stream",
     "text": [
      "256308\n",
      "211773\n"
     ]
    }
   ],
   "source": [
    "#remove values with negative times\n",
    "print(len(fire_df))\n",
    "\n",
    "clean_df = fire_df[fire_df['TTA'] > 0]\n",
    "clean_df = clean_df[clean_df['TTC'] > 0]\n",
    "\n",
    "print(len(clean_df))"
   ]
  },
  {
   "cell_type": "code",
   "execution_count": 10,
   "metadata": {
    "collapsed": true
   },
   "outputs": [],
   "source": [
    "clean_df = clean_df[clean_df['TTA'] < clean_df['TTC']]"
   ]
  },
  {
   "cell_type": "code",
   "execution_count": 11,
   "metadata": {},
   "outputs": [
    {
     "data": {
      "text/plain": [
       "211472"
      ]
     },
     "execution_count": 11,
     "metadata": {},
     "output_type": "execute_result"
    }
   ],
   "source": [
    "#remove outliers\n",
    "clean_df = clean_df[clean_df['TTA'] < 500]\n",
    "clean_df = clean_df[clean_df['TTC'] < 1000]\n",
    "len(clean_df)"
   ]
  },
  {
   "cell_type": "code",
   "execution_count": 12,
   "metadata": {
    "collapsed": true
   },
   "outputs": [],
   "source": [
    "#import matplotlib\n",
    "import matplotlib.pyplot as plt\n",
    "%matplotlib inline"
   ]
  },
  {
   "cell_type": "code",
   "execution_count": null,
   "metadata": {
    "collapsed": true
   },
   "outputs": [],
   "source": []
  }
 ],
 "metadata": {
  "kernelspec": {
   "display_name": "Python 3",
   "language": "python",
   "name": "python3"
  },
  "language_info": {
   "codemirror_mode": {
    "name": "ipython",
    "version": 3
   },
   "file_extension": ".py",
   "mimetype": "text/x-python",
   "name": "python",
   "nbconvert_exporter": "python",
   "pygments_lexer": "ipython3",
   "version": "3.6.1"
  }
 },
 "nbformat": 4,
 "nbformat_minor": 2
}
